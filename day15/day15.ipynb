{
 "cells": [
  {
   "attachments": {},
   "cell_type": "markdown",
   "metadata": {},
   "source": [
    "# Part 1"
   ]
  },
  {
   "cell_type": "code",
   "execution_count": 47,
   "metadata": {},
   "outputs": [
    {
     "data": {
      "text/plain": [
       "[[(3291456, 3143280), (3008934, 2768339)],\n",
       " [(3807352, 3409566), (3730410, 3774311)],\n",
       " [(1953670, 1674873), (2528182, 2000000)],\n",
       " [(2820269, 2810878), (2796608, 2942369)],\n",
       " [(3773264, 3992829), (3730410, 3774311)]]"
      ]
     },
     "execution_count": 47,
     "metadata": {},
     "output_type": "execute_result"
    }
   ],
   "source": [
    "data = open('input.txt').read()[:-1].split('\\n')\n",
    "\n",
    "def parse(data):\n",
    "    return [[\n",
    "                tuple(map(lambda x: int(x[2:]), coord.split(', '))) \n",
    "                for coord in row.replace('Sensor at ', '').replace(' closest beacon is at ', '').split(':')\n",
    "            ] \n",
    "            for row in data\n",
    "            ]\n",
    "data = parse(data)\n",
    "data[:5]"
   ]
  },
  {
   "cell_type": "code",
   "execution_count": 36,
   "metadata": {},
   "outputs": [],
   "source": [
    "def distance(a, b)-> int:\n",
    "    return abs(a[0] - b[0]) + abs(a[1]-b[1])\n",
    "\n",
    "def count_nonbeacon(y):\n",
    "    radii = [(sensor, distance(sensor, beacon)) for sensor, beacon in data]\n",
    "    beacons = {beacon for sensor, beacon in data}\n",
    "    x = 0\n",
    "    max_dist = 0\n",
    "    for sensor, dist in radii:\n",
    "        x = min(x, sensor[0]-dist)\n",
    "    for sensor, dist in radii:\n",
    "        max_dist = max(max_dist, distance((x,y), sensor))\n",
    "    # i hate having 2 of the same loop consecutively but this is what i get for wanting to not simulate the whole thing\n",
    "    \n",
    "    count = 0\n",
    "    while True:\n",
    "        x += 1\n",
    "        max_dist -= 1\n",
    "        if (x,y) in beacons:\n",
    "            continue\n",
    "        elif any(map(lambda s_d: distance((x,y), s_d[0]) <= s_d[1], radii)):\n",
    "            count += 1\n",
    "        elif max_dist < 0:\n",
    "            break\n",
    "        \n",
    "    return count\n",
    "            "
   ]
  },
  {
   "cell_type": "code",
   "execution_count": 37,
   "metadata": {},
   "outputs": [
    {
     "data": {
      "text/plain": [
       "5564017"
      ]
     },
     "execution_count": 37,
     "metadata": {},
     "output_type": "execute_result"
    }
   ],
   "source": [
    "count_nonbeacon(2000000)"
   ]
  },
  {
   "attachments": {},
   "cell_type": "markdown",
   "metadata": {},
   "source": [
    "# Part 2"
   ]
  },
  {
   "cell_type": "code",
   "execution_count": 41,
   "metadata": {},
   "outputs": [],
   "source": [
    "# def locate_beacon(search_range):\n",
    "#     radii = [(sensor, distance(sensor, beacon)) for sensor, beacon in data]\n",
    "#     for y in range(search_range+1):\n",
    "#         for x in range(search_range+1):\n",
    "#             if not any(map(lambda s_d: distance((x,y),s_d[0]) <= s_d[1], radii)):\n",
    "#                 return(x,y)\n",
    "#     return None\n",
    "# search_range = 4000000\n",
    "# coord = locate_beacon(search_range)\n",
    "# print(coord[0]*4000000 + coord[1])\n",
    "\n",
    "# while in theory this works, this shit is unimaginably slow"
   ]
  },
  {
   "cell_type": "code",
   "execution_count": null,
   "metadata": {},
   "outputs": [],
   "source": []
  }
 ],
 "metadata": {
  "kernelspec": {
   "display_name": "Python 3",
   "language": "python",
   "name": "python3"
  },
  "language_info": {
   "codemirror_mode": {
    "name": "ipython",
    "version": 3
   },
   "file_extension": ".py",
   "mimetype": "text/x-python",
   "name": "python",
   "nbconvert_exporter": "python",
   "pygments_lexer": "ipython3",
   "version": "3.11.0 (main, Oct 24 2022, 18:26:48) [MSC v.1933 64 bit (AMD64)]"
  },
  "orig_nbformat": 4,
  "vscode": {
   "interpreter": {
    "hash": "11c9a8d9d183678ada4733d405ee5173ac35a7c5e5bcce99b2c90cd82f22ae56"
   }
  }
 },
 "nbformat": 4,
 "nbformat_minor": 2
}
