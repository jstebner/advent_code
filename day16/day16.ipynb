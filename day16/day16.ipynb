{
 "cells": [
  {
   "attachments": {},
   "cell_type": "markdown",
   "metadata": {},
   "source": [
    "# Part 1"
   ]
  },
  {
   "cell_type": "code",
   "execution_count": 30,
   "metadata": {},
   "outputs": [
    {
     "data": {
      "text/plain": [
       "{'AA': {'rate': 0, 'children': ['DD', 'II', 'BB']},\n",
       " 'BB': {'rate': 13, 'children': ['CC', 'AA']},\n",
       " 'CC': {'rate': 2, 'children': ['DD', 'BB']},\n",
       " 'DD': {'rate': 20, 'children': ['CC', 'AA', 'EE']},\n",
       " 'EE': {'rate': 3, 'children': ['FF', 'DD']},\n",
       " 'FF': {'rate': 0, 'children': ['EE', 'GG']},\n",
       " 'GG': {'rate': 0, 'children': ['FF', 'HH']},\n",
       " 'HH': {'rate': 22, 'children': ['GG']},\n",
       " 'II': {'rate': 0, 'children': ['AA', 'JJ']},\n",
       " 'JJ': {'rate': 21, 'children': ['II']}}"
      ]
     },
     "execution_count": 30,
     "metadata": {},
     "output_type": "execute_result"
    }
   ],
   "source": [
    "data = open('input.txt').read()[:-1].split('\\n')\n",
    "data = '''Valve AA has flow rate=0; tunnels lead to valves DD, II, BB\n",
    "Valve BB has flow rate=13; tunnels lead to valves CC, AA\n",
    "Valve CC has flow rate=2; tunnels lead to valves DD, BB\n",
    "Valve DD has flow rate=20; tunnels lead to valves CC, AA, EE\n",
    "Valve EE has flow rate=3; tunnels lead to valves FF, DD\n",
    "Valve FF has flow rate=0; tunnels lead to valves EE, GG\n",
    "Valve GG has flow rate=0; tunnels lead to valves FF, HH\n",
    "Valve HH has flow rate=22; tunnel leads to valve GG\n",
    "Valve II has flow rate=0; tunnels lead to valves AA, JJ\n",
    "Valve JJ has flow rate=21; tunnel leads to valve II'''.split('\\n')\n",
    "\n",
    "def parse(data) -> dict:\n",
    "    data = map(lambda x: (lambda f: lambda *a: f(f,*a))\n",
    "               (lambda f, a, s: s if len(a)==0 else f(f, a[1:], s.replace(a[0], '')))\n",
    "               (['Valve ',' has flow rate',' tunnel','lead',' to valve', 's', '  '], x).split(';'),\n",
    "               data\n",
    "               ) # oh yucky 🤢\n",
    "    valves = dict()\n",
    "    for valve_specs, connections in data:\n",
    "        name, rate = valve_specs.split('=')\n",
    "        connections = connections.split(', ')\n",
    "        valves[name] = {'rate':int(rate), 'children':connections}\n",
    "    return valves\n",
    "    \n",
    "data = parse(data)\n",
    "data"
   ]
  },
  {
   "cell_type": "code",
   "execution_count": null,
   "metadata": {},
   "outputs": [],
   "source": [
    "# make pq class\n",
    "class PQ:\n",
    "    def __init__(self, data):\n",
    "        self.valves = data\n",
    "        self.q = list()\n",
    "    \n",
    "    def __len__(self):\n",
    "        return len(self.q)\n",
    "    \n",
    "    def __bound(self, val, curr, opened, elapsed):\n",
    "        # for each highest flow rate valves\n",
    "        #   calculate value with remaining minutes\n",
    "        #   assume each valve can be visited in 1 move\n",
    "        for valve in sorted(self.valves.values(), key=lambda x: x['rate'], reverse=True):\n",
    "            if valve['rate'] not in opened:\n",
    "                # get count to move to valve\n",
    "                # calc value from opening valve\n",
    "                # \n",
    "                pass\n",
    "        \n",
    "    def add(self, val, curr, opened, elapsed):\n",
    "        bound = self.__bound(val, curr, opened, elapsed)\n",
    "        # node: (bound: int, value: int, current: str, opened: set(str), elapsed: int)\n",
    "        node = (bound, val, curr, opened, elapsed)\n",
    "        for item in self.q:\n",
    "            if item[0] < bound:\n",
    "                self.q.insert(node)\n",
    "                return\n",
    "        self.q.append(node)\n",
    "    \n",
    "    def pop(self):\n",
    "        return self.q.pop(0)\n",
    "    \n",
    "# make bound function\n",
    "# a* through bnb tree"
   ]
  },
  {
   "cell_type": "code",
   "execution_count": null,
   "metadata": {},
   "outputs": [],
   "source": [
    "minutes = 30\n",
    "# maybe i try knapsack and use a shitty bound function idk"
   ]
  }
 ],
 "metadata": {
  "kernelspec": {
   "display_name": "Python 3",
   "language": "python",
   "name": "python3"
  },
  "language_info": {
   "codemirror_mode": {
    "name": "ipython",
    "version": 3
   },
   "file_extension": ".py",
   "mimetype": "text/x-python",
   "name": "python",
   "nbconvert_exporter": "python",
   "pygments_lexer": "ipython3",
   "version": "3.11.0 (main, Oct 24 2022, 18:26:48) [MSC v.1933 64 bit (AMD64)]"
  },
  "orig_nbformat": 4,
  "vscode": {
   "interpreter": {
    "hash": "11c9a8d9d183678ada4733d405ee5173ac35a7c5e5bcce99b2c90cd82f22ae56"
   }
  }
 },
 "nbformat": 4,
 "nbformat_minor": 2
}
